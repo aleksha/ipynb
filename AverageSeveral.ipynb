{
 "cells": [
  {
   "cell_type": "code",
   "execution_count": 1,
   "metadata": {},
   "outputs": [
    {
     "name": "stdout",
     "output_type": "stream",
     "text": [
      "Welcome to JupyROOT 6.20/06\n"
     ]
    }
   ],
   "source": [
    "import ROOT\n",
    "import ostap.fixes.fixes\n",
    "from ostap.core.core import cpp, Ostap\n",
    "from ostap.core.core import pwd, cwd, ROOTCWD\n",
    "from ostap.core.core import rootID, funcID, funID, fID, histoID, hID, dsID\n",
    "from ostap.core.core import VE\n",
    "from ostap.histos.histos import h1_axis, h2_axes, h3_axes\n",
    "from ostap.histos.graphs import makeGraph, hToGraph, hToGraph2, hToGraph3, lw_graph\n",
    "import ostap.trees.trees\n",
    "import ostap.trees.cuts\n",
    "import ostap.histos.param\n",
    "import ostap.histos.compare\n",
    "import ostap.io.root_file\n",
    "import ostap.math.models\n",
    "import ostap.fitting.roofit \n",
    "import ostap.fitting.models as Models"
   ]
  },
  {
   "cell_type": "code",
   "execution_count": 3,
   "metadata": {},
   "outputs": [
    {
     "name": "stderr",
     "output_type": "stream",
     "text": [
      "Warning in <TCanvas::Constructor>: Deleting canvas with same name: canv\n"
     ]
    },
    {
     "data": {
      "image/png": "[encoded data removed]",
      "text/plain": [
       "<IPython.core.display.Image object>"
      ]
     },
     "metadata": {},
     "output_type": "display_data"
    }
   ],
   "source": [
    "canv = ROOT.TCanvas(\"canv\",\"canv\",900,450)\n",
    "ds = ROOT.TChain(\"tree\")\n",
    "ds.Add(\"new_00.root\")\n",
    "ds.Add(\"new_01.root\")\n",
    "ds.Add(\"new_02.root\")\n",
    "ds.Add(\"new_03.root\")\n",
    "ds.Add(\"new_04.root\")\n",
    "ds.Add(\"new_05.root\")\n",
    "ds.Add(\"new_06.root\")\n",
    "ds.Add(\"new_07.root\")\n",
    "ds.Add(\"new_08.root\")\n",
    "ds.Add(\"new_09.root\")\n",
    "ds.Draw(\"zpos\")\n",
    "canv.Draw()"
   ]
  },
  {
   "cell_type": "code",
   "execution_count": 152,
   "metadata": {},
   "outputs": [
    {
     "name": "stdout",
     "output_type": "stream",
     "text": [
      "EVENTS SELECTED: 29933\n"
     ]
    }
   ],
   "source": [
    "from math import atan, sqrt\n",
    "W1   = 0.004 # mm/ns\n",
    "zCSC = 853.1 # mm\n",
    "T23 = 4.97526\n",
    "my_events = []\n",
    "for ev in ds:\n",
    "    lCSC  = sqrt( ev.xCSC**2 + ev.yCSC**2 )\n",
    "    zTPC  = ev.peak1*W1\n",
    "    Treco = ev.T/35310.\n",
    "    if Treco >T23-0.05 and Treco<T23+0.05:\n",
    "        evt = {\"t\":Treco, \"l\":lCSC, \"z\":zTPC, \"Atr\":ev.THETAe, \"Ttr\":ev.Tp, \"Ztr\":ev.zpos}\n",
    "        my_events.append( evt )\n",
    "print(\"EVENTS SELECTED: \" + str(len(my_events)))"
   ]
  },
  {
   "cell_type": "code",
   "execution_count": 153,
   "metadata": {},
   "outputs": [
    {
     "name": "stdout",
     "output_type": "stream",
     "text": [
      "Mean dZ = ( -2.19026 +- 0.00154718 )\n",
      "RMS  dZ = ( 0.266385 +- 0.00524278 )\n"
     ]
    },
    {
     "name": "stderr",
     "output_type": "stream",
     "text": [
      "Warning in <TROOT::Append>: Replacing existing TH1: hDZtrue (Potential memory leak).\n"
     ]
    },
    {
     "data": {
      "image/png": "[encoded data removed]",
      "text/plain": [
       "<IPython.core.display.Image object>"
      ]
     },
     "metadata": {},
     "output_type": "display_data"
    }
   ],
   "source": [
    "hDZtrue = ROOT.TH1F(\"hDZtrue\",\";#Delta Z, mm;events\",100,-5,5)\n",
    "for ev in my_events:\n",
    "    hDZtrue.Fill(ev[\"Ztr\"] - ev[\"z\"])\n",
    "hDZtrue.Draw()\n",
    "print(\"Mean dZ = \" + str(hDZtrue.mean()))\n",
    "print(\"RMS  dZ = \" + str(hDZtrue.rms()))\n",
    "ROOT.gPad.SetLogy()\n",
    "canv.Draw()"
   ]
  },
  {
   "cell_type": "code",
   "execution_count": 154,
   "metadata": {},
   "outputs": [
    {
     "name": "stderr",
     "output_type": "stream",
     "text": [
      "Warning in <TROOT::Append>: Replacing existing TH1: h_ang (Potential memory leak).\n"
     ]
    },
    {
     "data": {
      "image/png": "[encoded data removed]",
      "text/plain": [
       "<IPython.core.display.Image object>"
      ]
     },
     "metadata": {},
     "output_type": "display_data"
    }
   ],
   "source": [
    "ROOT.gPad.SetLogy(False)\n",
    "zCSC = 853.1\n",
    "z_bins = []\n",
    "for i in range(37):\n",
    "    z_bins.append(30.+10.*i)\n",
    "hARz = h1_axis(z_bins)\n",
    "h_ang = ROOT.TH1F(\"h_ang\",\";#theta_{REC}, mrad;events\",1000,100,200)\n",
    "for idx in range(len(z_bins)-1):\n",
    "    h_ang.Reset()\n",
    "    for ev in my_events:\n",
    "        if ev[\"z\"]>z_bins[idx] and ev[\"z\"]<z_bins[idx+1]:\n",
    "            h_ang.Fill(1000.*atan( ev[\"l\"]/(zCSC - ev[\"z\"]) ) )\n",
    "    hARz[idx+1] = VE( h_ang.mean().value(), h_ang.mean().error()**2 )\n",
    "hARz.Draw()\n",
    "canv.Draw()"
   ]
  },
  {
   "cell_type": "code",
   "execution_count": 155,
   "metadata": {},
   "outputs": [
    {
     "name": "stdout",
     "output_type": "stream",
     "text": [
      "\n",
      "****************************************\n",
      "Minimizer is Linear / Migrad\n",
      "Chi2                      =      31.9414\n",
      "NDf                       =           35\n",
      "p0                        =    0.0226783   +/-   0.00502345  \n",
      "\n",
      "****************************************\n",
      "Minimizer is Linear / Migrad\n",
      "Chi2                      =      31.3903\n",
      "NDf                       =           35\n",
      "p0                        =    0.0182929   +/-   0.00502414  \n",
      "\n",
      "****************************************\n",
      "Minimizer is Linear / Migrad\n",
      "Chi2                      =      31.6674\n",
      "NDf                       =           35\n",
      "p0                        =    0.0140902   +/-   0.00502242  \n",
      "\n",
      "****************************************\n",
      "Minimizer is Linear / Migrad\n",
      "Chi2                      =      30.7702\n",
      "NDf                       =           35\n",
      "p0                        =   0.00976819   +/-   0.00502178  \n",
      "\n",
      "****************************************\n",
      "Minimizer is Linear / Migrad\n",
      "Chi2                      =      30.1012\n",
      "NDf                       =           35\n",
      "p0                        =   0.00550487   +/-   0.00502109  \n",
      "\n",
      "****************************************\n",
      "Minimizer is Linear / Migrad\n",
      "Chi2                      =       29.639\n",
      "NDf                       =           35\n",
      "p0                        =   0.00122604   +/-   0.00501981  \n",
      "\n",
      "****************************************\n",
      "Minimizer is Linear / Migrad\n",
      "Chi2                      =      29.1149\n",
      "NDf                       =           35\n",
      "p0                        =  -0.00293536   +/-   0.00501414  \n",
      "\n",
      "****************************************\n",
      "Minimizer is Linear / Migrad\n",
      "Chi2                      =      28.0946\n",
      "NDf                       =           35\n",
      "p0                        =  -0.00700205   +/-   0.00500516  \n",
      "\n",
      "****************************************\n",
      "Minimizer is Linear / Migrad\n",
      "Chi2                      =      27.4058\n",
      "NDf                       =           35\n",
      "p0                        =   -0.0114763   +/-   0.0050076   \n",
      "\n",
      "****************************************\n",
      "Minimizer is Linear / Migrad\n",
      "Chi2                      =      27.8192\n",
      "NDf                       =           35\n",
      "p0                        =    -0.015752   +/-   0.00500446  \n",
      "\n",
      "****************************************\n",
      "Minimizer is Linear / Migrad\n",
      "Chi2                      =      27.5705\n",
      "NDf                       =           35\n",
      "p0                        =      -0.0201   +/-   0.00500473  \n",
      "\n",
      "****************************************\n",
      "Minimizer is Linear / Migrad\n",
      "Chi2                      =      27.6204\n",
      "NDf                       =           35\n",
      "p0                        =   -0.0245093   +/-   0.00500455  \n",
      "\n",
      "****************************************\n",
      "Minimizer is Linear / Migrad\n",
      "Chi2                      =      26.9978\n",
      "NDf                       =           35\n",
      "p0                        =   -0.0288322   +/-   0.00500349  \n",
      "\n",
      "****************************************\n",
      "Minimizer is Linear / Migrad\n",
      "Chi2                      =      27.0595\n",
      "NDf                       =           35\n",
      "p0                        =   -0.0331377   +/-   0.00500325  \n",
      "\n",
      "****************************************\n",
      "Minimizer is Linear / Migrad\n",
      "Chi2                      =      26.9645\n",
      "NDf                       =           35\n",
      "p0                        =    -0.037454   +/-   0.00500274  \n",
      "\n",
      "****************************************\n",
      "Minimizer is Linear / Migrad\n",
      "Chi2                      =      26.8298\n",
      "NDf                       =           35\n",
      "p0                        =    -0.041104   +/-   0.0050154   \n",
      "\n",
      "****************************************\n",
      "Minimizer is Linear / Migrad\n",
      "Chi2                      =      27.1234\n",
      "NDf                       =           35\n",
      "p0                        =   -0.0454217   +/-   0.00500452  \n",
      "\n",
      "****************************************\n",
      "Minimizer is Linear / Migrad\n",
      "Chi2                      =      27.6371\n",
      "NDf                       =           35\n",
      "p0                        =   -0.0497117   +/-   0.00500483  \n",
      "\n",
      "****************************************\n",
      "Minimizer is Linear / Migrad\n",
      "Chi2                      =      28.3566\n",
      "NDf                       =           35\n",
      "p0                        =   -0.0541184   +/-   0.00500522  \n",
      "\n",
      "****************************************\n",
      "Minimizer is Linear / Migrad\n",
      "Chi2                      =      29.0755\n",
      "NDf                       =           35\n",
      "p0                        =   -0.0583265   +/-   0.00500612  \n",
      "\n",
      "****************************************\n",
      "Minimizer is Linear / Migrad\n",
      "Chi2                      =      29.8648\n",
      "NDf                       =           35\n",
      "p0                        =   -0.0626866   +/-   0.00500582  \n",
      "\n",
      "****************************************\n",
      "Minimizer is Linear / Migrad\n",
      "Chi2                      =       30.192\n",
      "NDf                       =           35\n",
      "p0                        =   -0.0670234   +/-   0.00500584  \n",
      "\n",
      "****************************************\n",
      "Minimizer is Linear / Migrad\n",
      "Chi2                      =      30.0065\n",
      "NDf                       =           35\n",
      "p0                        =    -0.071302   +/-   0.00500538  \n",
      "\n",
      "****************************************\n",
      "Minimizer is Linear / Migrad\n",
      "Chi2                      =      29.6529\n",
      "NDf                       =           35\n",
      "p0                        =   -0.0756338   +/-   0.00500541  \n",
      "\n",
      "****************************************\n",
      "Minimizer is Linear / Migrad\n",
      "Chi2                      =      29.7899\n",
      "NDf                       =           35\n",
      "p0                        =     -0.07968   +/-   0.00499606  \n",
      "\n",
      "****************************************\n",
      "Minimizer is Linear / Migrad\n",
      "Chi2                      =      29.6146\n",
      "NDf                       =           35\n",
      "p0                        =   -0.0839249   +/-   0.00499468  \n",
      "\n",
      "****************************************\n",
      "Minimizer is Linear / Migrad\n",
      "Chi2                      =      30.6362\n",
      "NDf                       =           35\n",
      "p0                        =   -0.0882108   +/-   0.00499482  \n",
      "\n",
      "****************************************\n",
      "Minimizer is Linear / Migrad\n",
      "Chi2                      =      31.1473\n",
      "NDf                       =           35\n",
      "p0                        =   -0.0924873   +/-   0.00499431  \n",
      "\n",
      "****************************************\n",
      "Minimizer is Linear / Migrad\n",
      "Chi2                      =      30.9705\n",
      "NDf                       =           35\n",
      "p0                        =   -0.0967592   +/-   0.00499373  \n",
      "\n",
      "****************************************\n",
      "Minimizer is Linear / Migrad\n",
      "Chi2                      =      31.3835\n",
      "NDf                       =           35\n",
      "p0                        =     -0.10108   +/-   0.00499433  \n",
      "\n",
      "****************************************\n",
      "Minimizer is Linear / Migrad\n",
      "Chi2                      =      31.5424\n",
      "NDf                       =           35\n",
      "p0                        =     -0.10521   +/-   0.00498902  \n",
      "\n",
      "****************************************\n",
      "Minimizer is Linear / Migrad\n",
      "Chi2                      =      33.6025\n",
      "NDf                       =           35\n",
      "p0                        =    -0.109262   +/-   0.00498465  \n",
      "\n",
      "****************************************\n",
      "Minimizer is Linear / Migrad\n",
      "Chi2                      =      35.0498\n",
      "NDf                       =           35\n",
      "p0                        =    -0.113536   +/-   0.0049842   \n",
      "\n",
      "****************************************\n",
      "Minimizer is Linear / Migrad\n",
      "Chi2                      =      35.9416\n",
      "NDf                       =           35\n",
      "p0                        =    -0.117601   +/-   0.0049949   \n",
      "\n",
      "****************************************\n",
      "Minimizer is Linear / Migrad\n",
      "Chi2                      =       36.319\n",
      "NDf                       =           35\n",
      "p0                        =     -0.12192   +/-   0.00499554  \n",
      "\n",
      "****************************************\n",
      "Minimizer is Linear / Migrad\n",
      "Chi2                      =      37.1532\n",
      "NDf                       =           35\n",
      "p0                        =    -0.126338   +/-   0.00499603  \n",
      "\n",
      "****************************************\n",
      "Minimizer is Linear / Migrad\n",
      "Chi2                      =      36.2357\n",
      "NDf                       =           35\n",
      "p0                        =     -0.13065   +/-   0.00499601  \n",
      "\n",
      "****************************************\n",
      "Minimizer is Linear / Migrad\n",
      "Chi2                      =      38.2854\n",
      "NDf                       =           35\n",
      "p0                        =    -0.135075   +/-   0.00499305  \n",
      "\n",
      "****************************************\n",
      "Minimizer is Linear / Migrad\n",
      "Chi2                      =      40.4719\n",
      "NDf                       =           35\n",
      "p0                        =    -0.139318   +/-   0.00499245  \n",
      "\n",
      "****************************************\n",
      "Minimizer is Linear / Migrad\n",
      "Chi2                      =      41.7236\n",
      "NDf                       =           35\n",
      "p0                        =    -0.143523   +/-   0.00499295  \n"
     ]
    },
    {
     "name": "stderr",
     "output_type": "stream",
     "text": [
      "Warning in <TROOT::Append>: Replacing existing TH1: h_mis (Potential memory leak).\n"
     ]
    }
   ],
   "source": [
    "h_mis = ROOT.TH1F(\"h_mis\",\";#theta_{REC}-#theta_{TRUE}, mrad;events\",160,-8,8)\n",
    "z_shifts  = []\n",
    "chi2_list = []\n",
    "hTEMP = h1_axis(z_bins)\n",
    "for jdx in range(40):\n",
    "    hTEMP.Reset()\n",
    "    dz = -2.1-jdx*0.02\n",
    "    for idx in range(len(z_bins)-1):\n",
    "        h_ang.Reset()\n",
    "        h_mis.Reset()\n",
    "        for ev in my_events:\n",
    "            if ev[\"z\"]+dz>z_bins[idx] and ev[\"z\"]+dz<z_bins[idx+1]:\n",
    "                a_rec = 1000.*atan( ev[\"l\"]/(zCSC - (ev[\"z\"]+dz) ) )\n",
    "                h_ang.Fill( a_rec )\n",
    "                h_mis.Fill(a_rec - 1000.*ev[\"Atr\"] )\n",
    "#        hTEMP[idx+1] = VE( h_ang.mean().value(), h_ang.mean().error()**2 )\n",
    "        hTEMP[idx+1] = VE( h_mis.mean().value(), h_mis.mean().error()**2 )\n",
    "    res = hTEMP.Fit( \"pol0\", \"S\" )\n",
    "    z_shifts.append(dz)\n",
    "    chi2_list.append( res.Chi2() )"
   ]
  },
  {
   "cell_type": "code",
   "execution_count": 156,
   "metadata": {},
   "outputs": [
    {
     "data": {
      "image/png": "[encoded data removed]",
      "text/plain": [
       "<IPython.core.display.Image object>"
      ]
     },
     "metadata": {},
     "output_type": "display_data"
    }
   ],
   "source": [
    "gr_chi2 = makeGraph(z_shifts,chi2_list)\n",
    "gr_chi2.SetTitle(\"\")\n",
    "gr_chi2.GetXaxis().SetTitle(\"Z_{CORR}, mm\")\n",
    "gr_chi2.GetYaxis().SetTitle(\"#chi^{2}\")\n",
    "gr_chi2.SetMarkerStyle(20)\n",
    "gr_chi2.Draw(\"APL\")\n",
    "canv.Draw()"
   ]
  },
  {
   "cell_type": "code",
   "execution_count": 157,
   "metadata": {},
   "outputs": [],
   "source": [
    "dZ_mc = -2.19\n",
    "dZ_dt = -2.41"
   ]
  },
  {
   "cell_type": "code",
   "execution_count": 158,
   "metadata": {},
   "outputs": [
    {
     "data": {
      "text/plain": [
       "390.0"
      ]
     },
     "execution_count": 158,
     "metadata": {},
     "output_type": "execute_result"
    }
   ],
   "source": [
    "from statistics import mean, stdev, median\n",
    "z_bins[-1]"
   ]
  },
  {
   "cell_type": "code",
   "execution_count": 159,
   "metadata": {},
   "outputs": [
    {
     "name": "stdout",
     "output_type": "stream",
     "text": [
      "180.0\n",
      "30.0 - 210.0\t134.4738014068268\n",
      "\t\t134.18596136777361\n",
      "40.0 - 220.0\t134.4709022583955\n",
      "\t\t134.82358936143453\n",
      "50.0 - 230.0\t134.22236242412822\n",
      "\t\t134.2372105301128\n",
      "60.0 - 240.0\t134.04727526237883\n",
      "\t\t133.89561390978423\n",
      "70.0 - 250.0\t134.25673958943204\n",
      "\t\t133.91471411172415\n",
      "80.0 - 260.0\t134.3730894242567\n",
      "\t\t134.17196481933757\n",
      "90.0 - 270.0\t134.2399555176541\n",
      "\t\t134.2414902651259\n",
      "100.0 - 280.0\t133.8425773942505\n",
      "\t\t133.44480833008237\n",
      "110.0 - 290.0\t134.41219351982545\n",
      "\t\t134.4586918050151\n",
      "120.0 - 300.0\t134.05344147592223\n",
      "\t\t134.27529607673085\n",
      "130.0 - 310.0\t134.1505823431618\n",
      "\t\t134.25190720085746\n",
      "140.0 - 320.0\t134.57464419356964\n",
      "\t\t134.43222984815816\n",
      "150.0 - 330.0\t134.010022607891\n",
      "\t\t133.7611050208769\n",
      "160.0 - 340.0\t134.20322542759862\n",
      "\t\t133.76816555011325\n",
      "170.0 - 350.0\t134.30303991041774\n",
      "\t\t134.12672352274066\n",
      "180.0 - 360.0\t134.8180965873263\n",
      "\t\t134.81070723343234\n",
      "190.0 - 370.0\t134.32038468920518\n",
      "\t\t134.3989554652359\n",
      "200.0 - 380.0\t134.41449401615793\n",
      "\t\t134.59105372331004\n"
     ]
    },
    {
     "name": "stderr",
     "output_type": "stream",
     "text": [
      "Warning in <TROOT::Append>: Replacing existing TH1: hMedianMean (Potential memory leak).\n"
     ]
    },
    {
     "data": {
      "image/png": "[encoded data removed]",
      "text/plain": [
       "<IPython.core.display.Image object>"
      ]
     },
     "metadata": {},
     "output_type": "display_data"
    }
   ],
   "source": [
    "Nsteps = int( (len(z_bins)-1)/2 )\n",
    "DeltaZ = z_bins[Nsteps]-z_bins[0]\n",
    "print(DeltaZ)\n",
    "hMedianMiss = ROOT.TH1F(\"hMedianMean\",\";Median(#theta_{REC}) - Median(#theta_{TRUE})\",15,-2,1)\n",
    "for idx in range(Nsteps):\n",
    "    Lclose_list = []\n",
    "    Lfar_list = []\n",
    "    Zclose_list = []\n",
    "    Zfar_list = []\n",
    "    for ev in my_events:\n",
    "#        cZ = ev[\"z\"]+dZ_mc\n",
    "        cZ = ev[\"Ztr\"]\n",
    "        if cZ>z_bins[idx] and cZ<z_bins[idx+1]:\n",
    "            Lfar_list.append(ev[\"l\"])\n",
    "            Zfar_list.append(cZ)\n",
    "        if cZ>z_bins[idx+Nsteps] and cZ<z_bins[idx+1+Nsteps]:\n",
    "            Lclose_list.append(ev[\"l\"])\n",
    "            Zclose_list.append(cZ)\n",
    "    DeltaL = median(Lfar_list) - median(Lclose_list)    \n",
    "    DeltaZm=-median(Zfar_list) + median(Zclose_list)    \n",
    "    print(str(z_bins[idx]) + \" - \" + str(z_bins[idx+Nsteps]) + \"\\t\" + str(1000.*atan(DeltaL/DeltaZ)))\n",
    "    print(\"\\t\\t\" + str(1000.*atan(DeltaL/DeltaZm)))\n",
    "    hMedianMiss.Fill( 1000.*atan(DeltaL/DeltaZm) - 134.89 )\n",
    "#    print(\"\\t\"+str(len(Lfar_list)) +\"\\t\"+str(len(Lclose_list)))\n",
    "hMedianMiss.Draw()\n",
    "canv.Draw()"
   ]
  },
  {
   "cell_type": "code",
   "execution_count": 160,
   "metadata": {},
   "outputs": [
    {
     "name": "stdout",
     "output_type": "stream",
     "text": [
      "Median (far)  : 108.29132098901212\n",
      "              : 54.78723046875\n",
      "Median (close): 66.40690870747865\n",
      "              : 364.94026562500005\n",
      "Median angle  : 134.29774680934287\n",
      "              : 134.23227517167234\n",
      "              : 41.88441228153347 / 310.15303515625004\n"
     ]
    }
   ],
   "source": [
    "Lclose_list = []\n",
    "Lfar_list   = []\n",
    "Zclose_list = []\n",
    "Zfar_list   = []\n",
    "for ev in my_events:\n",
    "    if ev[\"z\"]+dZ_mc>45 and ev[\"z\"]+dZ_mc<65:\n",
    "        Lfar_list.append(ev[\"l\"])\n",
    "        Zfar_list.append(ev[\"z\"]+dZ_mc)\n",
    "    if ev[\"z\"]+dZ_mc>355 and ev[\"z\"]+dZ_mc<375:\n",
    "        Lclose_list.append(ev[\"l\"])\n",
    "        Zclose_list.append(ev[\"z\"]+dZ_mc)\n",
    "print(\"Median (far)  : \" + str(median(Lfar_list)))\n",
    "print(\"              : \" + str(median(Zfar_list)))\n",
    "print(\"Median (close): \" + str(median(Lclose_list)))\n",
    "print(\"              : \" + str(median(Zclose_list)))\n",
    "dL =  median(Lfar_list) - median(Lclose_list)\n",
    "dZ = -median(Zfar_list) + median(Zclose_list)\n",
    "print(\"Median angle  : \" + str(1000.*atan(dL/310.)))\n",
    "print(\"              : \" + str(1000.*atan(dL/dZ  )))\n",
    "print(\"              : \" + str(dL) + \" / \" +str(dZ) )"
   ]
  },
  {
   "cell_type": "code",
   "execution_count": 149,
   "metadata": {},
   "outputs": [
    {
     "name": "stdout",
     "output_type": "stream",
     "text": [
      "Median aTRUE: 134.89000499248505\n"
     ]
    }
   ],
   "source": [
    "Atr_list = []\n",
    "for ev in my_events:\n",
    "    Atr_list.append(1000.*ev[\"Atr\"])\n",
    "print(\"Median aTRUE: \" + str(median(Atr_list)))"
   ]
  },
  {
   "cell_type": "code",
   "execution_count": 150,
   "metadata": {},
   "outputs": [
    {
     "data": {
      "text/plain": [
       "795"
      ]
     },
     "execution_count": 150,
     "metadata": {},
     "output_type": "execute_result"
    }
   ],
   "source": [
    "len(Lclose_list)"
   ]
  },
  {
   "cell_type": "code",
   "execution_count": 151,
   "metadata": {},
   "outputs": [
    {
     "data": {
      "text/plain": [
       "0.004448398576512455"
      ]
     },
     "execution_count": 151,
     "metadata": {},
     "output_type": "execute_result"
    }
   ],
   "source": [
    "0.6/134.88"
   ]
  },
  {
   "cell_type": "code",
   "execution_count": null,
   "metadata": {},
   "outputs": [],
   "source": []
  }
 ],
 "metadata": {
  "kernelspec": {
   "display_name": "Python 3",
   "language": "python",
   "name": "python3"
  },
  "language_info": {
   "codemirror_mode": {
    "name": "ipython",
    "version": 3
   },
   "file_extension": ".py",
   "mimetype": "text/x-python",
   "name": "python",
   "nbconvert_exporter": "python",
   "pygments_lexer": "ipython3",
   "version": "3.8.5"
  }
 },
 "nbformat": 4,
 "nbformat_minor": 4
}

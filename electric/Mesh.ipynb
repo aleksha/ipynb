{
 "cells": [
  {
   "cell_type": "code",
   "execution_count": 1,
   "metadata": {},
   "outputs": [
    {
     "name": "stdout",
     "output_type": "stream",
     "text": [
      "Welcome to JupyROOT 6.20/06\n"
     ]
    }
   ],
   "source": [
    "import ROOT\n",
    "import ostap.fixes.fixes\n",
    "from ostap.core.core import cpp, Ostap\n",
    "from ostap.core.core import pwd, cwd, ROOTCWD\n",
    "from ostap.core.core import rootID, funcID, funID, fID, histoID, hID, dsID\n",
    "from ostap.core.core import VE\n",
    "from ostap.histos.histos import h1_axis, h2_axes, h3_axes\n",
    "from ostap.histos.graphs import makeGraph, hToGraph, hToGraph2, hToGraph3, lw_graph\n",
    "import ostap.trees.trees\n",
    "import ostap.trees.cuts\n",
    "import ostap.histos.param\n",
    "import ostap.histos.compare\n",
    "import ostap.io.root_file\n",
    "import ostap.math.models\n",
    "import ostap.fitting.roofit\n",
    "import ostap.fitting.models as Models"
   ]
  },
  {
   "cell_type": "code",
   "execution_count": 2,
   "metadata": {},
   "outputs": [],
   "source": [
    "import numpy as np\n",
    "canv = ROOT.TCanvas(\"canv\",\"canv\",800,400)"
   ]
  },
  {
   "cell_type": "code",
   "execution_count": 3,
   "metadata": {},
   "outputs": [],
   "source": [
    "lenX = 1001\n",
    "lenY = 1201\n",
    "radE = 300.\n",
    "posA = 299\n",
    "posC = 799\n",
    "HV   = 3000.\n",
    "delta = 1.\n",
    "Tguess = 1500.\n",
    "X, Y = np.meshgrid(np.arange(0, lenX), np.arange(0, lenY))\n",
    "# Set array size and set the interior value with Tguess\n",
    "T = np.empty((lenX, lenY))\n",
    "M = np.empty((lenX, lenY))\n",
    "T.fill(Tguess)\n",
    "M.fill(1)"
   ]
  },
  {
   "cell_type": "code",
   "execution_count": 58,
   "metadata": {},
   "outputs": [],
   "source": [
    "from math import sqrt\n",
    "for i in range(lenX):\n",
    "    T[i,0]=0\n",
    "    T[i,lenY-1]=0\n",
    "    M[i,0]=0\n",
    "    M[i,lenY-1]=0\n",
    "for i in range(lenY):\n",
    "    T[0,i]=0\n",
    "    T[lenX-1,i]=0    \n",
    "    M[0,i]=0\n",
    "    M[lenX-1,i]=0\n",
    "for i in range(lenX):\n",
    "    for j in range(lenY):\n",
    "        if i==posA or i==posA+1:\n",
    "            if sqrt(pow(-600.5+delta*j,2))<=radE:\n",
    "                T[i,j]=0\n",
    "                M[i,j]=0\n",
    "        if i==posC or i==posC+1:\n",
    "            if sqrt(pow(-600.5+delta*j,2))<=radE:\n",
    "                T[i,j]=HV\n",
    "                M[i,j]=0"
   ]
  },
  {
   "cell_type": "code",
   "execution_count": 59,
   "metadata": {},
   "outputs": [
    {
     "name": "stderr",
     "output_type": "stream",
     "text": [
      "Warning in <TROOT::Append>: Replacing existing TH1: th1a (Potential memory leak).\n"
     ]
    }
   ],
   "source": [
    "th1a = ROOT.TH1F(\"th1a\",\";x;T\",lenX,-0.5,-0.5+delta*lenX)"
   ]
  },
  {
   "cell_type": "code",
   "execution_count": 63,
   "metadata": {},
   "outputs": [
    {
     "name": "stdout",
     "output_type": "stream",
     "text": [
      "297.5\n"
     ]
    },
    {
     "data": {
      "image/png": "[encoded data removed]",
      "text/plain": [
       "<IPython.core.display.Image object>"
      ]
     },
     "metadata": {},
     "output_type": "display_data"
    }
   ],
   "source": [
    "j_pos = 303\n",
    "print(sqrt(pow(-600.5+delta*j_pos,2)))\n",
    "for i in range(lenX):\n",
    "    th1a[i+1] = VE(M[i,j_pos],0)\n",
    "th1a.Draw()\n",
    "canv.Draw()"
   ]
  },
  {
   "cell_type": "code",
   "execution_count": 67,
   "metadata": {},
   "outputs": [
    {
     "name": "stdout",
     "output_type": "stream",
     "text": [
      "0\n"
     ]
    }
   ],
   "source": [
    "maxIter=1\n",
    "for iteration in range(0, maxIter):\n",
    "    print(iteration)\n",
    "    for i in range(lenX):\n",
    "        for j in range(lenY):\n",
    "            if M[i,j]:\n",
    "                pre = T[i, j]\n",
    "                T[i, j] = 0.25 * (T[i+1][j] + T[i-1][j] + T[i][j+1] + T[i][j-1])"
   ]
  },
  {
   "cell_type": "code",
   "execution_count": null,
   "metadata": {},
   "outputs": [],
   "source": []
  }
 ],
 "metadata": {
  "kernelspec": {
   "display_name": "Python 3",
   "language": "python",
   "name": "python3"
  },
  "language_info": {
   "codemirror_mode": {
    "name": "ipython",
    "version": 3
   },
   "file_extension": ".py",
   "mimetype": "text/x-python",
   "name": "python",
   "nbconvert_exporter": "python",
   "pygments_lexer": "ipython3",
   "version": "3.8.6"
  }
 },
 "nbformat": 4,
 "nbformat_minor": 4
}

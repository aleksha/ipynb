{
 "cells": [
  {
   "cell_type": "code",
   "execution_count": 1,
   "metadata": {},
   "outputs": [
    {
     "name": "stdout",
     "output_type": "stream",
     "text": [
      "Welcome to JupyROOT 6.20/06\n"
     ]
    }
   ],
   "source": [
    "import ROOT\n",
    "import ostap.fixes.fixes\n",
    "from ostap.core.core import cpp, Ostap\n",
    "from ostap.core.core import pwd, cwd, ROOTCWD\n",
    "from ostap.core.core import rootID, funcID, funID, fID, histoID, hID, dsID\n",
    "from ostap.core.core import VE\n",
    "from ostap.histos.histos import h1_axis, h2_axes, h3_axes\n",
    "from ostap.histos.graphs import makeGraph, hToGraph, hToGraph2, hToGraph3, lw_graph\n",
    "import ostap.trees.trees\n",
    "import ostap.trees.cuts\n",
    "import ostap.histos.param\n",
    "import ostap.histos.compare\n",
    "import ostap.io.root_file\n",
    "import ostap.math.models\n",
    "import ostap.fitting.roofit \n",
    "import ostap.fitting.models as Models"
   ]
  },
  {
   "cell_type": "code",
   "execution_count": 4,
   "metadata": {},
   "outputs": [
    {
     "name": "stdout",
     "output_type": "stream",
     "text": [
      "0.04540927401898181\n"
     ]
    }
   ],
   "source": [
    "print(ROOT.TMath.PoissonI(76,75))\n"
   ]
  },
  {
   "cell_type": "code",
   "execution_count": 28,
   "metadata": {},
   "outputs": [
    {
     "name": "stdout",
     "output_type": "stream",
     "text": [
      "73.0  0.4320383941431325  0.5679616058568675  2.727194253157453e-11\n",
      "73.1  0.4327755604832332  0.5672244395167668  2.5790644203527114e-11\n",
      "73.2  0.4334601016074134  0.5665398983925867  2.44856430497401e-11\n",
      "73.3  0.434091904573942  0.565908095426058  2.333855620980539e-11\n",
      "73.4  0.43467087586831005  0.56532912413169  2.2333586164766773e-11\n",
      "73.5  0.43519694137586834  0.5648030586241317  2.1457183564872976e-11\n",
      "73.6  0.4356700463436783  0.5643299536563218  2.069776285325214e-11\n",
      "73.7  0.43609015533023393  0.5639098446697661  2.004546292280297e-11\n",
      "73.8  0.4364572521444033  0.5635427478555968  1.9491946348709326e-11\n",
      "73.9  0.4367713397731606  0.5632286602268394  1.9030231844543462e-11\n",
      "74.0  0.4370324402978423  0.5629675597021577  1.8654555521554787e-11\n",
      "74.1  0.43724059480006167  0.5627594051999383  1.8360257321145132e-11\n",
      "74.2  0.43739586325651447  0.5626041367434855  1.8143689671944356e-11\n",
      "74.3  0.4374983244233278  0.5625016755766722  1.8002146007209148e-11\n",
      "74.4  0.43754807570984  0.56245192429016  1.79338072922087e-11\n",
      "74.5  0.4375452330420638  0.5624547669579363  1.793770516578039e-11\n",
      "74.6  0.4374899307163087  0.5625100692836913  1.8013700711082923e-11\n",
      "74.7  0.43738232124244086  0.5626176787575592  1.8162478251416052e-11\n",
      "74.8  0.4372225751777964  0.5627774248222036  1.8385553923796558e-11\n",
      "74.9  0.43701088095122287  0.5629891190487771  1.8685299133820248e-11\n",
      "75.0  0.4367474446778567  0.5632525553221432  1.9064979342143397e-11\n",
      "75.1  0.43643248996493406  0.5635675100350659  1.9528808991087013e-11\n",
      "75.2  0.43606625770820384  0.5639337422917962  2.0082023758002423e-11\n",
      "75.3  0.43564900588009015  0.5643509941199099  2.073097172654047e-11\n",
      "75.4  0.43518100930908243  0.5648189906909176  2.148322551706512e-11\n",
      "75.5  0.43466255945071963  0.5653374405492804  2.234771791717318e-11\n",
      "75.6  0.4340939641508312  0.5659060358491688  2.333490412080278e-11\n",
      "75.7  0.4334755474006631  0.5665244525993369  2.4456954337059948e-11\n",
      "75.8  0.43280764908453345  0.5671923509154666  2.5727981280368127e-11\n",
      "75.9  0.43209062472024046  0.5679093752797595  2.7164307928519732e-11\n",
      "76.0  0.43132484519203185  0.5686751548079682  2.878478195746064e-11\n",
      "76.1  0.4305106964770939  0.569489303522906  3.0611144456874354e-11\n",
      "76.2  0.4296485793651893  0.5703514206348107  3.266846194104609e-11\n",
      "76.3  0.42873890917202145  0.5712610908279785  3.4985632326392454e-11\n",
      "76.4  0.4277821154465867  0.5722178845534134  3.759597750520462e-11\n",
      "76.5  0.426778641672416  0.573221358327584  4.0537937459548314e-11\n",
      "76.6  0.42572894496358765  0.5742710550364123  4.3855883593282854e-11\n",
      "76.7  0.42463349575517684  0.5753665042448232  4.760107220321356e-11\n",
      "76.8  0.4234927774887442  0.5765072225112557  5.183276284625686e-11\n",
      "76.9  0.4223072862930267  0.5776927137069733  5.6619530910297104e-11\n",
      "77.0  0.42107753066009007  0.57892246933991  6.204080909135186e-11\n",
      "77.1  0.4198040311172428  0.5801959688827572  6.818869887952473e-11\n",
      "77.2  0.4184873198950434  0.5815126801049566  7.517010075000264e-11\n",
      "77.3  0.41712794059132513  0.5828720594086749  8.310922077028349e-11\n",
      "77.4  0.41572644783210966  0.5842735521678903  9.215052202812e-11\n",
      "77.5  0.4142834069291119  0.5857165930708881  1.0246220199023509e-10\n",
      "77.6  0.41279939353434447  0.5872006064656555  1.142402919747399e-10\n",
      "77.7  0.41127499329214634  0.5887250067078537  1.2771349281902907e-10\n",
      "77.8  0.40971080148879013  0.5902891985112099  1.4314888207326202e-10\n",
      "77.9  0.40810742269987205  0.591892577300128  1.608586532697388e-10\n"
     ]
    }
   ],
   "source": [
    "for t in range(50):\n",
    "    prob = 0.\n",
    "    val = 73.+0.1*t\n",
    "    for i in range(70,80):\n",
    "        prob += ROOT.TMath.PoissonI(i,val)\n",
    "    print( str(val)+\"  \"+str(prob)+\"  \"+str(1.-prob)+\"  \"+str( pow(1-prob,43) ) ) "
   ]
  },
  {
   "cell_type": "code",
   "execution_count": 17,
   "metadata": {},
   "outputs": [
    {
     "name": "stdout",
     "output_type": "stream",
     "text": [
      "1.000000000000019\n",
      "0.43754807570984\n",
      "0.56245192429016\n"
     ]
    },
    {
     "name": "stderr",
     "output_type": "stream",
     "text": [
      "Warning in <TCanvas::Constructor>: Deleting canvas with same name: canv\n",
      "Warning in <TROOT::Append>: Replacing existing TH1: h (Potential memory leak).\n"
     ]
    },
    {
     "data": {
      "image/png": "[encoded data removed]",
      "text/plain": [
       "<IPython.core.display.Image object>"
      ]
     },
     "metadata": {},
     "output_type": "display_data"
    }
   ],
   "source": [
    "canv = ROOT.TCanvas(\"canv\",\"canv\",800,400)\n",
    "h = ROOT.TH1F(\"h\",\";deaths;prob\",201,-0.5,200.5)\n",
    "summa = 0.\n",
    "prob70=0.0\n",
    "for i in range(201):\n",
    "    h[i+1] = VE(ROOT.TMath.PoissonI(i,74.4),0)\n",
    "    summa += ROOT.TMath.PoissonI(i,74.4)\n",
    "    if i>69 and i<80:\n",
    "        prob70 += ROOT.TMath.PoissonI(i,74.4)\n",
    "ROOT.gPad.SetLogy(False)\n",
    "print(summa)\n",
    "print(prob70)\n",
    "print(1.-prob70)\n",
    "h.Draw(\"hist\")\n",
    "canv.Draw()"
   ]
  },
  {
   "cell_type": "code",
   "execution_count": 22,
   "metadata": {},
   "outputs": [
    {
     "data": {
      "text/plain": [
       "1.7999840289934567e-11"
      ]
     },
     "execution_count": 22,
     "metadata": {},
     "output_type": "execute_result"
    }
   ],
   "source": [
    "pow(0.5625,43)"
   ]
  },
  {
   "cell_type": "code",
   "execution_count": 26,
   "metadata": {},
   "outputs": [
    {
     "name": "stderr",
     "output_type": "stream",
     "text": [
      "Warning in <TROOT::Append>: Replacing existing TH1: ho (Potential memory leak).\n"
     ]
    },
    {
     "data": {
      "image/png": "[encoded data removed]",
      "text/plain": [
       "<IPython.core.display.Image object>"
      ]
     },
     "metadata": {},
     "output_type": "display_data"
    }
   ],
   "source": [
    "dd = [73, 77, 74, 76, 73, 71, 75, 77, 74, 72, 76, 73, 77, 75, 72, 76, \n",
    "      77, 74, 75, 71, 76, 72, 74, 77, 73, 75, 76, 74, 72, 76, 77, 73, \n",
    "      75, 76, 71, 75, 74, 77, 73, 76, 74, 72, 75]\n",
    "ho = ROOT.TH1F(\"ho\",\";deaths;prob\",10,70.5,80.5)\n",
    "for d in dd:\n",
    "    ho.Fill(d)\n",
    "    \n",
    "ho.SetFillColor(2)\n",
    "ho.SetFillStyle(3005)\n",
    "ho.Draw(\"hist\")\n",
    "canv.Draw()"
   ]
  },
  {
   "cell_type": "code",
   "execution_count": null,
   "metadata": {},
   "outputs": [],
   "source": []
  }
 ],
 "metadata": {
  "kernelspec": {
   "display_name": "Python 3",
   "language": "python",
   "name": "python3"
  },
  "language_info": {
   "codemirror_mode": {
    "name": "ipython",
    "version": 3
   },
   "file_extension": ".py",
   "mimetype": "text/x-python",
   "name": "python",
   "nbconvert_exporter": "python",
   "pygments_lexer": "ipython3",
   "version": "3.8.6"
  }
 },
 "nbformat": 4,
 "nbformat_minor": 4
}

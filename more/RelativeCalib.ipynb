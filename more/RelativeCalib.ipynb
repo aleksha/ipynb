{
 "cells": [
  {
   "cell_type": "code",
   "execution_count": 1,
   "metadata": {},
   "outputs": [
    {
     "name": "stdout",
     "output_type": "stream",
     "text": [
      "Welcome to JupyROOT 6.20/06\n"
     ]
    }
   ],
   "source": [
    "import ROOT\n",
    "import ostap.fixes.fixes\n",
    "from ostap.core.core import cpp, Ostap\n",
    "from ostap.core.core import pwd, cwd, ROOTCWD\n",
    "from ostap.core.core import rootID, funcID, funID, fID, histoID, hID, dsID\n",
    "from ostap.core.core import VE\n",
    "from ostap.histos.histos import h1_axis, h2_axes, h3_axes\n",
    "from ostap.histos.graphs import makeGraph, hToGraph, hToGraph2, hToGraph3, lw_graph\n",
    "import ostap.trees.trees\n",
    "import ostap.trees.cuts\n",
    "import ostap.histos.param\n",
    "import ostap.histos.compare\n",
    "import ostap.io.root_file\n",
    "import ostap.math.models\n",
    "import ostap.fitting.roofit \n",
    "import ostap.fitting.models as Models"
   ]
  },
  {
   "cell_type": "code",
   "execution_count": 2,
   "metadata": {},
   "outputs": [],
   "source": [
    "canv = ROOT.TCanvas(\"canv\",\"canv\",900,450)\n",
    "rfile = ROOT.TFile(\"new.root\",\"READ\")\n",
    "ds = rfile[\"tree\"]"
   ]
  },
  {
   "cell_type": "code",
   "execution_count": 165,
   "metadata": {},
   "outputs": [
    {
     "name": "stdout",
     "output_type": "stream",
     "text": [
      "EVENTS SELECTED: 2981\n"
     ]
    }
   ],
   "source": [
    "from math import atan, sqrt\n",
    "W1   = 0.004 # mm/ns\n",
    "zCSC = 853.1 # mm\n",
    "T23 = 4.97526\n",
    "my_events = []\n",
    "for ev in ds:\n",
    "    lCSC  = sqrt( ev.xCSC**2 + ev.yCSC**2 )\n",
    "    zTPC  = ev.peak1*W1\n",
    "    Treco = ev.T/35310.\n",
    "    if Treco >T23-0.05 and Treco<T23+0.05:\n",
    "        evt = {\"T\":Treco, \"l\":lCSC, \"z\":zTPC, \"Atr\":ev.THETAe, \"Ttr\":ev.Tp}\n",
    "        my_events.append( evt )\n",
    "print(\"EVENTS SELECTED: \" + str(len(my_events)))"
   ]
  },
  {
   "cell_type": "code",
   "execution_count": 166,
   "metadata": {},
   "outputs": [],
   "source": [
    "def find_pair( event, event_list, base=180. ):\n",
    "    num = 0\n",
    "    min_dist = 1000.\n",
    "    for i in range(len(event_list)):\n",
    "        if abs(abs(event_list[i][\"z\"]-event[\"z\"])-base)<min_dist:\n",
    "            min_dist  = abs(abs(event_list[i][\"z\"]-event[\"z\"])-base)\n",
    "            num = i\n",
    "    return num"
   ]
  },
  {
   "cell_type": "code",
   "execution_count": 167,
   "metadata": {},
   "outputs": [],
   "source": [
    "pair_list = []\n",
    "rng = range(900)\n",
    "for idx in rng:\n",
    "    evt = my_events.pop(idx)\n",
    "    pair_list.append( [evt , my_events.pop( find_pair( evt, my_events ) ) ] )"
   ]
  },
  {
   "cell_type": "code",
   "execution_count": 168,
   "metadata": {},
   "outputs": [
    {
     "name": "stderr",
     "output_type": "stream",
     "text": [
      "Warning in <TROOT::Append>: Replacing existing TH1: h_dZ (Potential memory leak).\n"
     ]
    },
    {
     "data": {
      "image/png": "[encoded data removed]",
      "text/plain": [
       "<IPython.core.display.Image object>"
      ]
     },
     "metadata": {},
     "output_type": "display_data"
    }
   ],
   "source": [
    "h_dZ = ROOT.TH1F(\"h_dZ\",\";#Delta Z, mm; event pairs\", 180, -360,360 )\n",
    "for pair in pair_list:\n",
    "#    h_dZ.Fill( abs(pair[0][\"z\"] - pair[1][\"z\"]) )\n",
    "    h_dZ.Fill( pair[1][\"z\"] - pair[0][\"z\"] )\n",
    "h_dZ.Draw()\n",
    "canv.Draw()"
   ]
  },
  {
   "cell_type": "code",
   "execution_count": 169,
   "metadata": {},
   "outputs": [
    {
     "name": "stderr",
     "output_type": "stream",
     "text": [
      "Warning in <TROOT::Append>: Replacing existing TH1: h_A (Potential memory leak).\n",
      "Warning in <TROOT::Append>: Replacing existing TH1: h_R (Potential memory leak).\n",
      "Warning in <TROOT::Append>: Replacing existing TH1: h_T (Potential memory leak).\n"
     ]
    },
    {
     "data": {
      "image/png": "[encoded data removed]",
      "text/plain": [
       "<IPython.core.display.Image object>"
      ]
     },
     "metadata": {},
     "output_type": "display_data"
    }
   ],
   "source": [
    "h_A = ROOT.TH1F(\"h_A\",\";#theta_{REC}, mrad; event pairs\", 100, 100, 200)\n",
    "h_R = ROOT.TH1F(\"h_R\",\";#theta_{REC}, mrad; event pairs\", 100, 100, 200)\n",
    "h_T = ROOT.TH1F(\"h_T\",\";#theta_{REC}, mrad; event pairs\", 100, 100, 200)\n",
    "h_T.SetLineColor(36)\n",
    "theta_rec_list = []\n",
    "for pair in pair_list:\n",
    "    min_idx = 0\n",
    "    max_idx = 1\n",
    "    if pair[1][\"z\"] - pair[0][\"z\"] < 0:\n",
    "        min_idx = 1\n",
    "        max_idx = 0\n",
    "    dZ = pair[max_idx][\"z\"] - pair[min_idx][\"z\"]\n",
    "    dL = pair[min_idx][\"l\"] - pair[max_idx][\"l\"]\n",
    "    theta_rec = 1000.*atan( dL / dZ )\n",
    "    theta_rec_list.append( theta_rec )\n",
    "    #print(theta_rec)\n",
    "    h_A.Fill( theta_rec )\n",
    "    h_T.Fill( 1000.*0.5*(pair[min_idx][\"Atr\"] + pair[max_idx][\"Atr\"]))\n",
    "ROOT.gPad.SetLogy()\n",
    "h_A.Draw()\n",
    "h_T.Draw(\"same\")\n",
    "canv.Draw()"
   ]
  },
  {
   "cell_type": "code",
   "execution_count": 170,
   "metadata": {},
   "outputs": [
    {
     "data": {
      "image/png": "[encoded data removed]",
      "text/plain": [
       "<IPython.core.display.Image object>"
      ]
     },
     "metadata": {},
     "output_type": "display_data"
    }
   ],
   "source": [
    "theta_true_list = []\n",
    "T_true_list = []\n",
    "T_rec_list = []\n",
    "for ev in ds:\n",
    "    Treco = ev.T/35310\n",
    "    if Treco >T23-0.05 and Treco<T23+0.05:\n",
    "        theta_true_list.append( 1000.*ev.THETAe )\n",
    "        h_R.Fill( 1000.*ev.THETAe )\n",
    "        T_true_list.append( ev.Tp )\n",
    "        T_rec_list.append ( ev.T/35310. )\n",
    "\n",
    "h_R.SetLineColor(2)\n",
    "h_R.Draw()\n",
    "h_A.Draw(\"same\")\n",
    "canv.Draw()"
   ]
  },
  {
   "cell_type": "code",
   "execution_count": 171,
   "metadata": {},
   "outputs": [
    {
     "name": "stdout",
     "output_type": "stream",
     "text": [
      "Median angle (rec.): 134.94243568500445\n",
      "Median angle (true): 134.88200306892395\n",
      "0.06043261608050443\n",
      "Mean angle   (rec.): 134.82251588713862\n",
      "Mean angle   (true): 137.2392553584922\n",
      "-2.4167394713535657\n",
      "Mode angle   (rec.): 129.04517372880053\n",
      "Mode angle   (true): 134.44699347019196\n",
      "-5.401819741391421\n",
      "\n",
      "\n",
      "Median T (rec.): 4.972148028178986\n",
      "Median T (true): 4.975840091705322\n",
      "-0.00369206352633622\n",
      "Mean T   (rec.): 4.972993220313662\n",
      "Mean T   (true): 4.975683334968667\n",
      "-0.002690114655004905\n"
     ]
    }
   ],
   "source": [
    "import statistics\n",
    "median_theta_rec  = statistics.median( theta_rec_list  )\n",
    "median_theta_true = statistics.median( theta_true_list )\n",
    "mean_theta_rec  = statistics.mean( theta_rec_list  )\n",
    "mean_theta_true = statistics.mean( theta_true_list )\n",
    "mode_theta_rec  = statistics.mode( theta_rec_list  )\n",
    "mode_theta_true = statistics.mode( theta_true_list )\n",
    "print(\"Median angle (rec.): \" + str( median_theta_rec  ) )\n",
    "print(\"Median angle (true): \" + str( median_theta_true ) )\n",
    "print(median_theta_rec  - median_theta_true)\n",
    "print(\"Mean angle   (rec.): \" + str( mean_theta_rec    ) )\n",
    "print(\"Mean angle   (true): \" + str( mean_theta_true   ) )\n",
    "print(mean_theta_rec  - mean_theta_true)\n",
    "print(\"Mode angle   (rec.): \" + str( mode_theta_rec    ) )\n",
    "print(\"Mode angle   (true): \" + str( mode_theta_true   ) )\n",
    "print(mode_theta_rec  - mode_theta_true)\n",
    "print(\"\\n\")\n",
    "median_T_rec  = statistics.median( T_rec_list  )\n",
    "median_T_true = statistics.median( T_true_list )\n",
    "mean_T_rec  = statistics.mean( T_rec_list  )\n",
    "mean_T_true = statistics.mean( T_true_list )\n",
    "print(\"Median T (rec.): \" + str( median_T_rec  ) )\n",
    "print(\"Median T (true): \" + str( median_T_true ) )\n",
    "print(median_T_rec  - median_T_true)\n",
    "print(\"Mean T   (rec.): \" + str( mean_T_rec    ) )\n",
    "print(\"Mean T   (true): \" + str( mean_T_true   ) )\n",
    "print(mean_T_rec  - mean_T_true)"
   ]
  },
  {
   "cell_type": "code",
   "execution_count": 53,
   "metadata": {},
   "outputs": [
    {
     "data": {
      "text/plain": [
       "132.23275247709924"
      ]
     },
     "execution_count": 53,
     "metadata": {},
     "output_type": "execute_result"
    }
   ],
   "source": [
    "statistics.mode(theta_rec_list )"
   ]
  },
  {
   "cell_type": "code",
   "execution_count": 54,
   "metadata": {},
   "outputs": [
    {
     "data": {
      "text/plain": [
       "134.44699347019196"
      ]
     },
     "execution_count": 54,
     "metadata": {},
     "output_type": "execute_result"
    }
   ],
   "source": [
    "statistics.mode(theta_true_list )"
   ]
  },
  {
   "cell_type": "code",
   "execution_count": null,
   "metadata": {},
   "outputs": [],
   "source": []
  }
 ],
 "metadata": {
  "kernelspec": {
   "display_name": "Python 3",
   "language": "python",
   "name": "python3"
  },
  "language_info": {
   "codemirror_mode": {
    "name": "ipython",
    "version": 3
   },
   "file_extension": ".py",
   "mimetype": "text/x-python",
   "name": "python",
   "nbconvert_exporter": "python",
   "pygments_lexer": "ipython3",
   "version": "3.8.5"
  }
 },
 "nbformat": 4,
 "nbformat_minor": 4
}

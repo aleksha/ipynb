{
 "cells": [
  {
   "cell_type": "code",
   "execution_count": 9,
   "metadata": {},
   "outputs": [],
   "source": [
    "import ROOT\n",
    "import ostap.fixes.fixes\n",
    "from ostap.core.core import cpp, Ostap\n",
    "from ostap.core.core import pwd, cwd, ROOTCWD\n",
    "from ostap.core.core import rootID, funcID, funID, fID, histoID, hID, dsID\n",
    "from ostap.core.core import VE\n",
    "from ostap.histos.histos import h1_axis, h2_axes, h3_axes\n",
    "from ostap.histos.graphs import makeGraph, hToGraph, hToGraph2, hToGraph3, lw_graph\n",
    "import ostap.trees.trees\n",
    "import ostap.trees.cuts\n",
    "import ostap.histos.param\n",
    "import ostap.histos.compare\n",
    "import ostap.io.root_file\n",
    "import ostap.math.models\n",
    "import ostap.fitting.roofit \n",
    "import ostap.fitting.models as Models"
   ]
  },
  {
   "cell_type": "code",
   "execution_count": 10,
   "metadata": {},
   "outputs": [
    {
     "name": "stderr",
     "output_type": "stream",
     "text": [
      "Warning in <TCanvas::Constructor>: Deleting canvas with same name: canv\n"
     ]
    }
   ],
   "source": [
    "canv = ROOT.TCanvas(\"canv\",\"canv\",900,450)\n",
    "rfile = ROOT.TFile(\"rad/new.root\",\"READ\")\n",
    "tfile = ROOT.TFile(\"two/new.root\",\"READ\")\n",
    "ds = rfile[\"tree\"]\n",
    "dt = tfile[\"tree\"]"
   ]
  },
  {
   "cell_type": "code",
   "execution_count": 11,
   "metadata": {},
   "outputs": [
    {
     "name": "stdout",
     "output_type": "stream",
     "text": [
      "EVENTS SELECTED (rad.tail): 250000\n",
      "EVENTS SELECTED (two body): 250000\n"
     ]
    }
   ],
   "source": [
    "from math import sqrt\n",
    "my_events  = []\n",
    "my_events2 = []\n",
    "for ev in ds:\n",
    "    lCSC  = sqrt( ev.xCSC**2 + ev.yCSC**2 )\n",
    "    zTPC  = ev.zpos+2.19+ROOT.gRandom.Gaus(0,0.2576)\n",
    "    Treco = ev.Tp+ROOT.gRandom.Gaus(0,0.05)\n",
    "    evt = {\"T\":Treco, \"l\":lCSC, \"Z\":zTPC, \"Atr\":ev.THETAe, \"Ttr\":ev.Tp, \"Ztr\":ev.zpos}\n",
    "    my_events.append( evt )\n",
    "print(\"EVENTS SELECTED (rad.tail): \" + str(len(my_events)))\n",
    "for ev in dt:\n",
    "    lCSC  = sqrt( ev.xCSC**2 + ev.yCSC**2 )\n",
    "    zTPC  = ev.zpos+2.19+ROOT.gRandom.Gaus(0,0.2576)\n",
    "    Treco = ev.Tp+ROOT.gRandom.Gaus(0,0.05)\n",
    "    evt = {\"T\":Treco, \"l\":lCSC, \"Z\":zTPC, \"Atr\":ev.THETAe, \"Ttr\":ev.Tp, \"Ztr\":ev.zpos}\n",
    "    my_events2.append( evt )\n",
    "print(\"EVENTS SELECTED (two body): \" + str(len(my_events2)))"
   ]
  },
  {
   "cell_type": "code",
   "execution_count": 5,
   "metadata": {},
   "outputs": [
    {
     "name": "stdout",
     "output_type": "stream",
     "text": [
      "h1: mean=( 136.611 +- 0.0425021 )\t rms=( 8.18846 +- 0.1881 )\t0.06021415336720899\n",
      "h2: mean=( 135.193 +- 0.00205097 )\t rms=( 0.379567 +- 4.40333 )\t( 1.51707e-05 +- 2.3015e-10 )\n",
      "list mean  137.81799665710273 +- 0.09181864616986561\n",
      "list sigma 17.747620394054824\n",
      "list mean    137.81799665710273\n",
      "list meadian 135.14600694179535  135.1040005683899 0.00029597620351323755\n",
      "list mode    135.19999384880066\n"
     ]
    },
    {
     "data": {
      "image/png": "[encoded data removed]",
      "text/plain": [
       "<IPython.core.display.Image object>"
      ]
     },
     "metadata": {},
     "output_type": "display_data"
    }
   ],
   "source": [
    "from statistics import mean, median, stdev, mode\n",
    "h1 = ROOT.TH1F(\"h1\",\";#theta, mrad;events\",10000,50,250)\n",
    "h2 = ROOT.TH1F(\"h2\",\";#theta, mrad;events\",10000,50,250)\n",
    "hT = ROOT.TH1F(\"hT\",\";#theta, mrad;events\",10000,50,250)\n",
    "h2.SetLineColor(2)\n",
    "hT.SetLineColor(1)\n",
    "hT.SetFillColor(1)\n",
    "hT.SetFillStyle(3005)\n",
    "evts = 0.\n",
    "thetas = []\n",
    "theta2 = []\n",
    "for ev in my_events:\n",
    "    if ev[\"Ttr\"]>4.985 and ev[\"Ttr\"]<5.015:\n",
    "        h1.Fill(1000.*ev[\"Atr\"])\n",
    "    if ev[\"Ttr\"]>4.985 and ev[\"Ttr\"]<5.015:\n",
    "        h2.Fill(1000.*ev[\"Atr\"])\n",
    "        thetas.append( 1000.*ev[\"Atr\"] )\n",
    "        evts+=1.\n",
    "evts2=0.\n",
    "for ev in my_events2:\n",
    "    if ev[\"Ttr\"]>4.985 and ev[\"Ttr\"]<5.015:\n",
    "        hT.Fill(1000.*ev[\"Atr\"])\n",
    "        theta2.append( 1000.*ev[\"Atr\"] )\n",
    "        evts2+=1.\n",
    "h2.GetXaxis().SetRangeUser(134,138)\n",
    "h2.Draw()\n",
    "hT.Draw(\"same\")\n",
    "Line =ROOT.TLine( mean(thetas), 10, mean(thetas),1000)\n",
    "Line.SetLineWidth(3)\n",
    "Line.SetLineColor(2)\n",
    "Line2 =ROOT.TLine( median(thetas), 10, median(thetas),1000)\n",
    "Line2.SetLineWidth(3)\n",
    "Line2t =ROOT.TLine( median(theta2), 10, median(theta2),1000)\n",
    "Line2t.SetLineWidth(3)\n",
    "Line2t.SetLineStyle(7)\n",
    "Line3 =ROOT.TLine( mode(thetas), 10, mode(thetas),1000)\n",
    "Line3.SetLineWidth(3)\n",
    "Line3.SetLineColor(4)\n",
    "Line.Draw(\"same\")\n",
    "Line2.Draw(\"same\")\n",
    "Line2t.Draw(\"same\")\n",
    "Line3.Draw(\"same\")\n",
    "ROOT.gPad.SetLogy()\n",
    "canv.Draw()\n",
    "print(\"h1: mean=\" + str(h1.mean()) + \"\\t rms=\" + str(h1.rms()) + \"\\t\" + str(h1.rms().value()/sqrt(18493.)))\n",
    "print(\"h2: mean=\" + str(h2.mean()) + \"\\t rms=\" + str(h2.rms()) + \"\\t\" + str(h2.mean().prec()))\n",
    "print(\"list mean  \" + str(mean(thetas)) + \" +- \" + str(stdev(thetas)/sqrt(evts)))\n",
    "print(\"list sigma \" + str(stdev(thetas)) )\n",
    "print(\"list mean    \" + str(mean(thetas)) )\n",
    "print(\"list meadian \" + str(median(thetas)) + \"  \" + str(median(theta2)) + \" \" + str(0.04/135.146) )\n",
    "print(\"list mode    \" + str(mode(thetas)) )"
   ]
  },
  {
   "cell_type": "code",
   "execution_count": 6,
   "metadata": {},
   "outputs": [
    {
     "name": "stdout",
     "output_type": "stream",
     "text": [
      "h1: mean=( 136.603 +- 0.0450204 )\t rms=( 8.36713 +- 0.19314 )\t0.061528008551818454\n",
      "h2: mean=( 135.181 +- 0.00366032 )\t rms=( 0.636043 +- 2.83442 )\t( 2.70771e-05 +- 7.33169e-10 )\n",
      "list mean  137.75284447351046 +- 0.09361598092191921\n",
      "list sigma 17.45304201654412\n",
      "list mean    137.75284447351046\n",
      "list meadian 135.17199456691742  135.05999743938446 0.00029597620351323755\n",
      "list mode    134.90700721740723\n"
     ]
    },
    {
     "name": "stderr",
     "output_type": "stream",
     "text": [
      "Warning in <TROOT::Append>: Replacing existing TH1: h1 (Potential memory leak).\n",
      "Warning in <TROOT::Append>: Replacing existing TH1: h2 (Potential memory leak).\n",
      "Warning in <TROOT::Append>: Replacing existing TH1: hT (Potential memory leak).\n"
     ]
    },
    {
     "data": {
      "image/png": "[encoded data removed]",
      "text/plain": [
       "<IPython.core.display.Image object>"
      ]
     },
     "metadata": {},
     "output_type": "display_data"
    }
   ],
   "source": [
    "from statistics import mean, median, stdev, mode\n",
    "h1 = ROOT.TH1F(\"h1\",\";#theta, mrad;events\",10000,50,250)\n",
    "h2 = ROOT.TH1F(\"h2\",\";#theta, mrad;events\",10000,50,250)\n",
    "hT = ROOT.TH1F(\"hT\",\";#theta, mrad;events\",10000,50,250)\n",
    "h2.SetLineColor(2)\n",
    "hT.SetLineColor(1)\n",
    "hT.SetFillColor(1)\n",
    "hT.SetFillStyle(3005)\n",
    "evts = 0.\n",
    "thetas = []\n",
    "theta2 = []\n",
    "for ev in my_events:\n",
    "    if ev[\"T\"]>4.985 and ev[\"T\"]<5.015:\n",
    "        h1.Fill(1000.*ev[\"Atr\"])\n",
    "    if ev[\"T\"]>4.985 and ev[\"T\"]<5.015:\n",
    "        h2.Fill(1000.*ev[\"Atr\"])\n",
    "        thetas.append( 1000.*ev[\"Atr\"] )\n",
    "        evts+=1.\n",
    "evts2=0.\n",
    "for ev in my_events2:\n",
    "    if ev[\"T\"]>4.985 and ev[\"T\"]<5.015:\n",
    "        hT.Fill(1000.*ev[\"Atr\"])\n",
    "        theta2.append( 1000.*ev[\"Atr\"] )\n",
    "        evts2+=1.\n",
    "h2.GetXaxis().SetRangeUser(134,138)\n",
    "h2.Draw()\n",
    "hT.Draw(\"same\")\n",
    "Line =ROOT.TLine( mean(thetas), 10, mean(thetas),1000)\n",
    "Line.SetLineWidth(3)\n",
    "Line.SetLineColor(2)\n",
    "Line2 =ROOT.TLine( median(thetas), 10, median(thetas),1000)\n",
    "Line2.SetLineWidth(3)\n",
    "Line2t =ROOT.TLine( median(theta2), 10, median(theta2),1000)\n",
    "Line2t.SetLineWidth(3)\n",
    "Line2t.SetLineStyle(7)\n",
    "Line3 =ROOT.TLine( mode(thetas), 10, mode(thetas),1000)\n",
    "Line3.SetLineWidth(3)\n",
    "Line3.SetLineColor(4)\n",
    "Line.Draw(\"same\")\n",
    "Line2.Draw(\"same\")\n",
    "Line2t.Draw(\"same\")\n",
    "Line3.Draw(\"same\")\n",
    "ROOT.gPad.SetLogy()\n",
    "canv.Draw()\n",
    "print(\"h1: mean=\" + str(h1.mean()) + \"\\t rms=\" + str(h1.rms()) + \"\\t\" + str(h1.rms().value()/sqrt(18493.)))\n",
    "print(\"h2: mean=\" + str(h2.mean()) + \"\\t rms=\" + str(h2.rms()) + \"\\t\" + str(h2.mean().prec()))\n",
    "print(\"list mean  \" + str(mean(thetas)) + \" +- \" + str(stdev(thetas)/sqrt(evts)))\n",
    "print(\"list sigma \" + str(stdev(thetas)) )\n",
    "print(\"list mean    \" + str(mean(thetas)) )\n",
    "print(\"list meadian \" + str(median(thetas)) + \"  \" + str(median(theta2)) + \" \" + str(0.04/135.146) )\n",
    "print(\"list mode    \" + str(mode(thetas)) )"
   ]
  },
  {
   "cell_type": "code",
   "execution_count": 1,
   "metadata": {},
   "outputs": [
    {
     "ename": "NameError",
     "evalue": "name 'ROOT' is not defined",
     "output_type": "error",
     "traceback": [
      "\u001b[0;31m---------------------------------------------------------------------------\u001b[0m",
      "\u001b[0;31mNameError\u001b[0m                                 Traceback (most recent call last)",
      "\u001b[0;32m<ipython-input-1-c278f5bdc301>\u001b[0m in \u001b[0;36m<module>\u001b[0;34m\u001b[0m\n\u001b[0;32m----> 1\u001b[0;31m \u001b[0mhR_Ztr\u001b[0m \u001b[0;34m=\u001b[0m \u001b[0mROOT\u001b[0m\u001b[0;34m.\u001b[0m\u001b[0mTH1F\u001b[0m\u001b[0;34m(\u001b[0m\u001b[0;34m\"hR_Ztr\"\u001b[0m\u001b[0;34m,\u001b[0m\u001b[0;34m\";#DeltaZ_{TRUE}, mm;R_{REC}, mm\"\u001b[0m\u001b[0;34m,\u001b[0m\u001b[0;36m38\u001b[0m\u001b[0;34m,\u001b[0m\u001b[0;36m851.6\u001b[0m\u001b[0;34m-\u001b[0m\u001b[0;36m390.0\u001b[0m\u001b[0;34m,\u001b[0m\u001b[0;36m851.6\u001b[0m\u001b[0;34m-\u001b[0m\u001b[0;36m10.0\u001b[0m\u001b[0;34m)\u001b[0m\u001b[0;34m\u001b[0m\u001b[0;34m\u001b[0m\u001b[0m\n\u001b[0m\u001b[1;32m      2\u001b[0m \u001b[0mhR\u001b[0m     \u001b[0;34m=\u001b[0m \u001b[0mROOT\u001b[0m\u001b[0;34m.\u001b[0m\u001b[0mTH1F\u001b[0m\u001b[0;34m(\u001b[0m\u001b[0;34m\"hR\"\u001b[0m\u001b[0;34m,\u001b[0m\u001b[0;34m\";R_{REC},mm;events\"\u001b[0m\u001b[0;34m,\u001b[0m\u001b[0;36m30000\u001b[0m\u001b[0;34m,\u001b[0m\u001b[0;36m0\u001b[0m\u001b[0;34m,\u001b[0m\u001b[0;36m300\u001b[0m\u001b[0;34m)\u001b[0m\u001b[0;34m\u001b[0m\u001b[0;34m\u001b[0m\u001b[0m\n\u001b[1;32m      3\u001b[0m \u001b[0mhA\u001b[0m     \u001b[0;34m=\u001b[0m \u001b[0mROOT\u001b[0m\u001b[0;34m.\u001b[0m\u001b[0mTH1F\u001b[0m\u001b[0;34m(\u001b[0m\u001b[0;34m\"hA\"\u001b[0m\u001b[0;34m,\u001b[0m\u001b[0;34m\";#theta, mrad;events\"\u001b[0m\u001b[0;34m,\u001b[0m\u001b[0;36m200\u001b[0m\u001b[0;34m,\u001b[0m\u001b[0;36m100\u001b[0m\u001b[0;34m,\u001b[0m\u001b[0;36m300\u001b[0m\u001b[0;34m)\u001b[0m\u001b[0;34m\u001b[0m\u001b[0;34m\u001b[0m\u001b[0m\n\u001b[1;32m      4\u001b[0m \u001b[0mNevt\u001b[0m \u001b[0;34m=\u001b[0m \u001b[0;36m0\u001b[0m\u001b[0;34m\u001b[0m\u001b[0;34m\u001b[0m\u001b[0m\n\u001b[1;32m      5\u001b[0m \u001b[0mdT\u001b[0m \u001b[0;34m=\u001b[0m \u001b[0;36m0.015\u001b[0m\u001b[0;34m\u001b[0m\u001b[0;34m\u001b[0m\u001b[0m\n",
      "\u001b[0;31mNameError\u001b[0m: name 'ROOT' is not defined"
     ]
    }
   ],
   "source": [
    "hR_Ztr = ROOT.TH1F(\"hR_Ztr\",\";#DeltaZ_{TRUE}, mm;R_{REC}, mm\",38,851.6-390.0,851.6-10.0)\n",
    "hR     = ROOT.TH1F(\"hR\",\";R_{REC},mm;events\",30000,0,300)\n",
    "hA     = ROOT.TH1F(\"hA\",\";#theta, mrad;events\",200,100,300)\n",
    "Nevt = 0\n",
    "dT = 0.015\n",
    "for bin in range(1,38):\n",
    "    hR.Reset()\n",
    "    Rs = []\n",
    "    Zs = []\n",
    "    for ev in my_events:\n",
    "        if ev[\"T\"]>5.-dT and ev[\"T\"]<5.+dT:\n",
    "            if ev[\"z\"]>10.*bin and ev[\"z\"]<10.*(bin+1):\n",
    "                hR.Fill(ev[\"l\"])\n",
    "                Rs.append(ev[\"l\"])\n",
    "                Zs.append(851.6-ev[\"z\"])\n",
    "                hA.Fill(1000.*ev[\"Atr\"])\n",
    "                Nevt+=1\n",
    "    hR_Ztr[39-bin]=VE( median(Rs),(0.001*(3.52346+median(Zs)*0.0134859))**2)\n",
    "    #print(\"Bin \" + str(bin) + \" is done\" )\n",
    "hR_Ztr.Draw(\"e1\")\n",
    "f_pol1 = ROOT.TF1(\"f_pol1\",\"pol1(0)\",851.6-390.0,851.6-10.0)\n",
    "hR_Ztr.Fit(f_pol1)\n",
    "ROOT.gPad.SetLogy(False)\n",
    "canv.Draw()\n",
    "tgA = VE(f_pol1.GetParameter(1),f_pol1.GetParError(1)**2)\n",
    "#print(tgA)\n",
    "import ostap.math.math_ve as math_ve\n",
    "th_true = hA.mean()\n",
    "th_reco = 1000.*math_ve.atan(tgA)\n",
    "print(str(Nevt)+\" events\")\n",
    "print(\"TRUE mean\" + str(th_true) + \" mrad.\") \n",
    "print(\"REC. mean\" + str(th_reco) + \" mrad.\\t\" + str(th_reco.prec())) "
   ]
  },
  {
   "cell_type": "code",
   "execution_count": null,
   "metadata": {},
   "outputs": [],
   "source": [
    "gr = makeGraph(vZ,vR,eZ,eR)\n",
    "gr.Draw(\"AP\")\n",
    "gr.Fit(f_pol1)\n",
    "tgG = VE(f_pol1.GetParameter(1),f_pol1.GetParError(1)**2)\n",
    "th_gr = 1000.*math_ve.atan(tgG)\n",
    "print(\"GRAPH mean\" + str(th_gr) + \" mrad.\\t\" + str(th_gr.prec()))\n",
    "print(\"TRUE mean\" + str(th_true) + \" mrad.\") \n",
    "print(\"   --> \" +str(th_gr-th_true) + \"\\n\")\n",
    "print(\"REC. mean\" + str(th_reco) + \" mrad.\\t\" + str(th_reco.prec()) + \"\\n\") \n",
    "canv.Draw()"
   ]
  }
 ],
 "metadata": {
  "kernelspec": {
   "display_name": "Python 3",
   "language": "python",
   "name": "python3"
  },
  "language_info": {
   "codemirror_mode": {
    "name": "ipython",
    "version": 3
   },
   "file_extension": ".py",
   "mimetype": "text/x-python",
   "name": "python",
   "nbconvert_exporter": "python",
   "pygments_lexer": "ipython3",
   "version": "3.8.3"
  }
 },
 "nbformat": 4,
 "nbformat_minor": 4
}

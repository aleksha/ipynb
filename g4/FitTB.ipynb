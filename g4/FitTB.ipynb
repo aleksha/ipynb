{
 "cells": [
  {
   "cell_type": "code",
   "execution_count": 1,
   "metadata": {},
   "outputs": [
    {
     "name": "stdout",
     "output_type": "stream",
     "text": [
      "Welcome to JupyROOT 6.20/06\n"
     ]
    }
   ],
   "source": [
    "import ROOT\n",
    "import ostap.fixes.fixes\n",
    "from ostap.core.core import cpp, Ostap\n",
    "from ostap.core.core import pwd, cwd, ROOTCWD\n",
    "from ostap.core.core import rootID, funcID, funID, fID, histoID, hID, dsID\n",
    "from ostap.core.core import VE\n",
    "from ostap.histos.histos import h1_axis, h2_axes, h3_axes\n",
    "from ostap.histos.graphs import makeGraph, hToGraph, hToGraph2, hToGraph3, lw_graph\n",
    "import ostap.trees.trees\n",
    "import ostap.trees.cuts\n",
    "import ostap.histos.param\n",
    "import ostap.histos.compare\n",
    "import ostap.io.root_file\n",
    "import ostap.math.models\n",
    "import ostap.fitting.roofit \n",
    "import ostap.fitting.models as Models"
   ]
  },
  {
   "cell_type": "code",
   "execution_count": 2,
   "metadata": {},
   "outputs": [],
   "source": [
    "canv = ROOT.TCanvas(\"canv\",\"canv\",900,450)\n",
    "rfile = ROOT.TFile(\"two/new.root\",\"READ\")\n",
    "ds = rfile[\"tree\"]"
   ]
  },
  {
   "cell_type": "code",
   "execution_count": 32,
   "metadata": {},
   "outputs": [
    {
     "name": "stdout",
     "output_type": "stream",
     "text": [
      "EVENTS SELECTED: 250000\n"
     ]
    }
   ],
   "source": [
    "from math import sqrt\n",
    "my_events = []\n",
    "for ev in ds:\n",
    "    lCSC  = sqrt( ev.xCSC**2 + ev.yCSC**2 )\n",
    "    zTPC  = ev.zpos+2.19+ROOT.gRandom.Gaus(0,0.2576)\n",
    "    Treco = ev.Tp+ROOT.gRandom.Gaus(0,0.05)\n",
    "    evt = {\"T\":Treco, \"l\":lCSC, \"Z\":zTPC, \"Atr\":ev.THETAe, \"Ttr\":ev.Tp, \"Ztr\":ev.zpos}\n",
    "    my_events.append( evt )\n",
    "print(\"EVENTS SELECTED: \" + str(len(my_events)))"
   ]
  },
  {
   "cell_type": "code",
   "execution_count": 36,
   "metadata": {},
   "outputs": [
    {
     "name": "stdout",
     "output_type": "stream",
     "text": [
      "h1: mean=( 135.257 +- 0.00221494 )\t rms=( 0.428996 +- 0.00132606 )\t0.003154640662116283\n",
      "h2: mean=( 135.257 +- 0.00221494 )\t rms=( 0.428996 +- 0.00132606 )\t( 1.63758e-05 +- 2.68168e-10 )\n",
      "list mean  135.10510678010147 +- 0.000610557223230696\n",
      "list sigma 0.1182543899737599\n"
     ]
    },
    {
     "name": "stderr",
     "output_type": "stream",
     "text": [
      "Warning in <TROOT::Append>: Replacing existing TH1: h1 (Potential memory leak).\n",
      "Warning in <TROOT::Append>: Replacing existing TH1: h2 (Potential memory leak).\n"
     ]
    },
    {
     "data": {
      "image/png": "[encoded data removed]",
      "text/plain": [
       "<IPython.core.display.Image object>"
      ]
     },
     "metadata": {},
     "output_type": "display_data"
    }
   ],
   "source": [
    "from statistics import mean, median, stdev\n",
    "h1 = ROOT.TH1F(\"h1\",\";#theta, mrad;events\",200,50,250)\n",
    "h2 = ROOT.TH1F(\"h2\",\";#theta, mrad;events\",200,50,250)\n",
    "h2.SetLineColor(2)\n",
    "evts = 0.\n",
    "thetas = []\n",
    "for ev in my_events:\n",
    "    if ev[\"Ttr\"]>4.985 and ev[\"Ttr\"]<5.015:\n",
    "        h1.Fill(1000.*ev[\"Atr\"])\n",
    "    if ev[\"Ttr\"]>4.985 and ev[\"Ttr\"]<5.015:\n",
    "        h2.Fill(1000.*ev[\"Atr\"])\n",
    "        thetas.append( 1000.*ev[\"Atr\"] )\n",
    "        evts+=1.\n",
    "h1.Draw()\n",
    "h2.Draw(\"same\")\n",
    "ROOT.gPad.SetLogy()\n",
    "canv.Draw()\n",
    "print(\"h1: mean=\" + str(h1.mean()) + \"\\t rms=\" + str(h1.rms()) + \"\\t\" + str(h1.rms().value()/sqrt(18493.)))\n",
    "print(\"h2: mean=\" + str(h2.mean()) + \"\\t rms=\" + str(h2.rms()) + \"\\t\" + str(h2.mean().prec()))\n",
    "print(\"list mean  \" + str(mean(thetas)) + \" +- \" + str(stdev(thetas)/sqrt(evts)))\n",
    "print(\"list sigma \" + str(stdev(thetas)) )"
   ]
  },
  {
   "cell_type": "code",
   "execution_count": 37,
   "metadata": {},
   "outputs": [
    {
     "name": "stdout",
     "output_type": "stream",
     "text": [
      "36517 events\n",
      "TRUE mean( 135.105 +- 0.000618804 ) mrad.\n",
      "REC. mean( 135.088 +- 0.0261901 ) mrad.\t( 0.000193875 +- 3.75874e-08 )\n",
      "\n",
      "****************************************\n",
      "Minimizer is Linear / Migrad\n",
      "Chi2                      =       37.956\n",
      "NDf                       =           35\n",
      "p0                        =     0.208745   +/-   0.0173615   \n",
      "p1                        =     0.135916   +/-   2.66739e-05 \n"
     ]
    },
    {
     "name": "stderr",
     "output_type": "stream",
     "text": [
      "Warning in <TROOT::Append>: Replacing existing TH1: hR_Ztr (Potential memory leak).\n",
      "Warning in <TROOT::Append>: Replacing existing TH1: hR (Potential memory leak).\n",
      "Warning in <TROOT::Append>: Replacing existing TH1: hA (Potential memory leak).\n"
     ]
    },
    {
     "data": {
      "image/png": "[encoded data removed]",
      "text/plain": [
       "<IPython.core.display.Image object>"
      ]
     },
     "metadata": {},
     "output_type": "display_data"
    }
   ],
   "source": [
    "hR_Ztr = ROOT.TH1F(\"hR_Ztr\",\";#DeltaZ_{TRUE}, mm;R_{REC}, mm\",38,851.6-390.0,851.6-10.0)\n",
    "hR     = ROOT.TH1F(\"hR\",\";R_{REC},mm;events\",30000,0,300)\n",
    "hA     = ROOT.TH1F(\"hA\",\";#theta, mrad;events\",200,100,300)\n",
    "Nevt = 0\n",
    "dT = 0.015\n",
    "As = []\n",
    "vR = []\n",
    "vZ = []\n",
    "eR = []\n",
    "eZ = []\n",
    "for bin in range(1,38):\n",
    "    hR.Reset()\n",
    "    evts = 0.\n",
    "    Rs = []\n",
    "    Zs = []\n",
    "    for ev in my_events:\n",
    "        if ev[\"Ttr\"]>5.-dT and ev[\"Ttr\"]<5.+dT:\n",
    "            if ev[\"Ztr\"]>10.*bin and ev[\"Ztr\"]<10.*(bin+1):\n",
    "                hR.Fill(ev[\"l\"])\n",
    "                hA.Fill(1000.*ev[\"Atr\"])\n",
    "                evts+=1.\n",
    "                Zs.append(851.6-ev[\"Ztr\"])\n",
    "                Rs.append(ev[\"l\"])\n",
    "                As.append(1000.*ev[\"Atr\"])\n",
    "                Nevt+=1\n",
    "    vR.append(mean(Rs))\n",
    "    vZ.append(mean(Zs))\n",
    "    eR.append(stdev(Rs)/sqrt(evts))\n",
    "    eZ.append(stdev(Zs)/sqrt(evts))\n",
    "    hR_Ztr[39-bin]=VE(mean(Rs),(stdev(Rs)/sqrt(evts))**2)\n",
    "    #hR_Ztr[39-bin]=hR.mean()\n",
    "    #print(\"Bin \" + str(bin) + \" is done\" )\n",
    "hR_Ztr.Draw(\"e1\")\n",
    "f_pol1 = ROOT.TF1(\"f_pol1\",\"pol1(0)\",851.6-390.0,851.6-10.0)\n",
    "hR_Ztr.Fit(f_pol1)\n",
    "ROOT.gPad.SetLogy(False)\n",
    "canv.Draw()\n",
    "tgA = VE(f_pol1.GetParameter(1),f_pol1.GetParError(1)**2)\n",
    "#print(tgA)\n",
    "import ostap.math.math_ve as math_ve\n",
    "th_true = VE(mean(As),(stdev(As)/sqrt(Nevt))**2)\n",
    "th_reco = 1000.*math_ve.atan(tgA)\n",
    "print(str(Nevt)+\" events\")\n",
    "print(\"TRUE mean\" + str(th_true) + \" mrad.\") \n",
    "print(\"REC. mean\" + str(th_reco) + \" mrad.\\t\" + str(th_reco.prec())) "
   ]
  },
  {
   "cell_type": "code",
   "execution_count": 38,
   "metadata": {},
   "outputs": [
    {
     "name": "stdout",
     "output_type": "stream",
     "text": [
      "GRAPH mean( 135.095 +- 0.0324113 ) mrad.\t( 0.000239915 +- 5.75591e-08 )\n",
      "TRUE mean( 135.105 +- 0.000618804 ) mrad.\n",
      "   --> ( -0.0101873 +- 0.0324172 )\n",
      "\n",
      "REC. mean( 135.088 +- 0.0261901 ) mrad.\t( 0.000193875 +- 3.75874e-08 )\n",
      "\n",
      " FCN=12.7649 FROM MIGRAD    STATUS=CONVERGED      33 CALLS          34 TOTAL\n",
      "                     EDM=1.73522e-07    STRATEGY= 1      ERROR MATRIX ACCURATE \n",
      "  EXT PARAMETER                                   STEP         FIRST   \n",
      "  NO.   NAME      VALUE            ERROR          SIZE      DERIVATIVE \n",
      "   1  p0           2.01275e-01   2.16623e-02   6.30753e-06  -1.68120e-01\n",
      "   2  p1           1.35923e-01   3.30101e-05   6.48131e-08  -1.10897e+02\n"
     ]
    },
    {
     "data": {
      "image/png": "[encoded data removed]",
      "text/plain": [
       "<IPython.core.display.Image object>"
      ]
     },
     "metadata": {},
     "output_type": "display_data"
    }
   ],
   "source": [
    "gr = makeGraph(vZ,vR,eZ,eR)\n",
    "gr.Draw(\"AP\")\n",
    "gr.Fit(f_pol1)\n",
    "tgG = VE(f_pol1.GetParameter(1),f_pol1.GetParError(1)**2)\n",
    "th_gr = 1000.*math_ve.atan(tgG)\n",
    "print(\"GRAPH mean\" + str(th_gr) + \" mrad.\\t\" + str(th_gr.prec()))\n",
    "print(\"TRUE mean\" + str(th_true) + \" mrad.\") \n",
    "print(\"   --> \" +str(th_gr-th_true)+ \"\\n\")\n",
    "print(\"REC. mean\" + str(th_reco) + \" mrad.\\t\" + str(th_reco.prec()) + \"\\n\") \n",
    "canv.Draw()"
   ]
  },
  {
   "cell_type": "code",
   "execution_count": null,
   "metadata": {},
   "outputs": [],
   "source": []
  }
 ],
 "metadata": {
  "kernelspec": {
   "display_name": "Python 3",
   "language": "python",
   "name": "python3"
  },
  "language_info": {
   "codemirror_mode": {
    "name": "ipython",
    "version": 3
   },
   "file_extension": ".py",
   "mimetype": "text/x-python",
   "name": "python",
   "nbconvert_exporter": "python",
   "pygments_lexer": "ipython3",
   "version": "3.8.3"
  }
 },
 "nbformat": 4,
 "nbformat_minor": 4
}
